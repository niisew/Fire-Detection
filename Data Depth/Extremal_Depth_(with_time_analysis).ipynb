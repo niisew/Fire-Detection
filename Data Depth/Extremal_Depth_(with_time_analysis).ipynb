{
  "nbformat": 4,
  "nbformat_minor": 0,
  "metadata": {
    "colab": {
      "provenance": []
    },
    "kernelspec": {
      "name": "python3",
      "display_name": "Python 3"
    },
    "language_info": {
      "name": "python"
    }
  },
  "cells": [
    {
      "cell_type": "code",
      "source": [
        "!pip install ipython-autotime"
      ],
      "metadata": {
        "id": "DNxHF69iyM63"
      },
      "execution_count": null,
      "outputs": []
    },
    {
      "cell_type": "code",
      "execution_count": null,
      "metadata": {
        "id": "0idz7t9LttLO"
      },
      "outputs": [],
      "source": [
        "import numpy as np\n",
        "import pandas as pd\n",
        "import time\n",
        "import matplotlib.pyplot as plt\n",
        "%load_ext autotime"
      ]
    },
    {
      "cell_type": "code",
      "source": [
        "def getDepth(g, S, t):\n",
        "    '''\n",
        "    g :: vector\n",
        "    S :: a list of vectors\n",
        "    t :: index of vector\n",
        "    '''\n",
        "    n = len(S)\n",
        "    ans = 0\n",
        "    for i in range(len(S)):\n",
        "        if S[i][t] <= g[t]:\n",
        "            ans += 1\n",
        "        if S[i][t] > g[t]:\n",
        "            ans += -1\n",
        "    #return 1 - np.abs(ans)/n\n",
        "    return 1 - (ans/n)"
      ],
      "metadata": {
        "id": "-k7J4KuttxbC"
      },
      "execution_count": null,
      "outputs": []
    },
    {
      "cell_type": "code",
      "source": [
        "def getCDF(g, S):\n",
        "    n = len(S)\n",
        "    D = [i/n for i in range(0, n + 1)]\n",
        "\n",
        "    Dgs = []\n",
        "    for t in range(len(g)):\n",
        "        Dgs.append(getDepth(g, S, t))\n",
        "\n",
        "    cdf = []\n",
        "    for r in D:\n",
        "        cdf_r = 0\n",
        "        for i in range(len(Dgs)):\n",
        "            if Dgs[i] <= r:\n",
        "                cdf_r += 1\n",
        "            else:\n",
        "                cdf_r += 0\n",
        "        cdf.append(cdf_r/len(g))\n",
        "\n",
        "    return cdf"
      ],
      "metadata": {
        "id": "T9LHPshYvWvF"
      },
      "execution_count": null,
      "outputs": []
    },
    {
      "cell_type": "code",
      "source": [
        "def getExtDepth(S):\n",
        "    n = len(S)\n",
        "    df = pd.DataFrame(data = 0, index = ['Phi_{}'.format(i) for i in range(n)], columns = [i/n for i in range(0, n + 1)])\n",
        "\n",
        "    for i in range(len(S)):\n",
        "        df.loc['Phi_{}'.format(i)] = getCDF(S[i], S)\n",
        "\n",
        "    return df\n"
      ],
      "metadata": {
        "id": "TfOgiDgY5IB6"
      },
      "execution_count": null,
      "outputs": []
    },
    {
      "cell_type": "code",
      "source": [
        "S = []\n",
        "for i in range():\n",
        "   S.append(np.random.uniform(size = 5, low = 0, high = 10))"
      ],
      "metadata": {
        "id": "zhFdO4fg25gT"
      },
      "execution_count": null,
      "outputs": []
    },
    {
      "cell_type": "code",
      "source": [
        "getExtDepth(S)"
      ],
      "metadata": {
        "id": "SHZuwkJci1sI"
      },
      "execution_count": null,
      "outputs": []
    },
    {
      "cell_type": "code",
      "source": [
        "#D2\n",
        "e_x = [50, 100, 200, 300, 400, 500, 600, 700, 800, 900, 1000]\n",
        "e_y = [0.180, 0.942, 1.65, 3.83, 7.52, 11.2, 17.3, 21.7, 27.5, 34.4, 42]\n",
        "sv_x = [50, 100, 200, 300, 400, 500, 600, 700, 800, 900, 1000]\n",
        "sv_y = [0.0234, 0.127, 2.42, 9.02, 32.1, 76, 158, 293, 498, 800, 1244]\n",
        "hs_x = [50, 100, 200, 300, 400, 500, 600, 700, 800, 900, 1000]\n",
        "hs_y = [0.0137, 0.0796, 0.843, 2.24, 6.2, 11.7, 21.2, 33.9, 50.1, 74,98]"
      ],
      "metadata": {
        "id": "c5bIKcG1ogpG"
      },
      "execution_count": null,
      "outputs": []
    },
    {
      "cell_type": "code",
      "source": [
        "#D5\n",
        "e5_x = [50, 100, 200, 300, 400, 500, 600, 700, 800, 900, 1000]\n",
        "e5_y = [0.180, 0.942, 1.65, 3.83, 7.52, 11.2, 17.3, 21.7, 27.5, 34.4, 42]"
      ],
      "metadata": {
        "id": "ZN4fpkpSEMjx"
      },
      "execution_count": null,
      "outputs": []
    },
    {
      "cell_type": "code",
      "source": [
        "fig, axs = plt.subplots(2,2)\n",
        "fig.set_figheight(10)\n",
        "fig.set_figwidth(10)\n",
        "axs[0,0].set_title(\"Execution Time in R^3\")\n",
        "axs[0,1].set_title(\"Execution Time in R^5\")\n",
        "axs[0,0].plot(e_x, e_y)\n",
        "axs[0,0].plot(sv_x, sv_y)\n",
        "axs[0,0].plot(hs_x, hs_y)\n",
        "axs[0,1].plot(e5_x, e5_y)\n",
        "#plt.plot(e_x,e_y)\n",
        "#plt.plot(sv_x,sv_y)\n",
        "#plt.plot(hs_x,hs_y)\n",
        "axs[0,0].legend(['Extremal Depth', 'Simplicial Volume', 'Halfspace'])\n",
        "axs[0,0].set_xlabel(\"Number of Data Points\")\n",
        "axs[0,0].set_ylabel(\"Execution Time in Seconds\")\n",
        "\n",
        "axs[0,1].legend(['Extremal Depth'])\n",
        "axs[0,1].set_xlabel(\"Number of Data Points\")\n",
        "axs[0,1].set_ylabel(\"Execution Time in Seconds\")\n",
        "#plt.yscale(\"log\")\n",
        "plt.show()"
      ],
      "metadata": {
        "id": "ReYj3jYjof-O"
      },
      "execution_count": null,
      "outputs": []
    },
    {
      "cell_type": "code",
      "source": [
        "from google.colab import drive\n",
        "drive.mount('/content/drive')\n",
        "\n",
        "getExtDepth(S).to_csv('/content/drive/My Drive/NASA/Extremal Depth on Sample Data 2.csv', index=True)"
      ],
      "metadata": {
        "id": "s45yAMKCxC_n",
        "colab": {
          "base_uri": "https://localhost:8080/"
        },
        "outputId": "fe94faba-2c63-4cac-86f9-d3b31e66af7f"
      },
      "execution_count": null,
      "outputs": [
        {
          "output_type": "stream",
          "name": "stdout",
          "text": [
            "Mounted at /content/drive\n"
          ]
        }
      ]
    }
  ]
}
