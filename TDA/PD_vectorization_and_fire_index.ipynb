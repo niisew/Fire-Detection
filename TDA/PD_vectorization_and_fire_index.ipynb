{
  "cells": [
    {
      "cell_type": "code",
      "execution_count": null,
      "metadata": {
        "id": "mKCyJ8gC9mGH"
      },
      "outputs": [],
      "source": [
        "!pip uninstall rpy2"
      ]
    },
    {
      "cell_type": "code",
      "execution_count": null,
      "metadata": {
        "id": "voQRBbye9mum"
      },
      "outputs": [],
      "source": [
        "!pip install rpy2==3.5.1\n",
        "!pip install dionysus\n",
        "!pip install zarr\n",
        "!pip install POT\n",
        "!pip install gudhi\n",
        "!pip install validclust\n",
        "!pip install ipython-autotime"
      ]
    },
    {
      "cell_type": "code",
      "execution_count": null,
      "metadata": {
        "id": "d-1yZkAF81rK"
      },
      "outputs": [],
      "source": [
        "from google.colab import drive\n",
        "from google.colab import files\n",
        "import os\n",
        "\n",
        "drive.mount('/content/drive',force_remount=True)\n",
        "os.chdir(\"/content/drive/My Drive/NASA/\")\n",
        "!ls -ltr"
      ]
    },
    {
      "cell_type": "code",
      "execution_count": null,
      "metadata": {
        "id": "LnYVZPvW84wt"
      },
      "outputs": [],
      "source": [
        "import zarr\n",
        "import seaborn as sns\n",
        "import numpy as np\n",
        "import scipy\n",
        "import pandas as pd\n",
        "import dionysus as d\n",
        "import matplotlib.pyplot as plt\n",
        "import gudhi as gd\n",
        "import time\n",
        "import math\n",
        "from gudhi.wasserstein import wasserstein_distance as wd\n",
        "from gudhi.representations import Landscape\n",
        "from sklearn.cluster import DBSCAN\n",
        "from sklearn.metrics import silhouette_score, davies_bouldin_score, calinski_harabasz_score, pairwise_distances\n",
        "from sklearn.cluster import KMeans, AgglomerativeClustering\n",
        "from scipy.cluster.hierarchy import dendrogram\n",
        "from validclust import dunn, cop, ValidClust\n",
        "from gudhi.wasserstein.barycenter import lagrangian_barycenter\n",
        "import gudhi\n",
        "import rpy2\n",
        "import rpy2.robjects as robjects\n",
        "from rpy2.robjects import pandas2ri\n",
        "import rpy2.robjects.numpy2ri\n",
        "rpy2.robjects.numpy2ri.activate()\n",
        "sns.set_theme()\n",
        "%load_ext autotime"
      ]
    },
    {
      "cell_type": "code",
      "execution_count": null,
      "metadata": {
        "id": "2zOz-vwgo2cw"
      },
      "outputs": [],
      "source": [
        "fname2 = 'Tile_1_33'\n",
        "\n",
        "rawFileList = os.listdir(fname2)\n",
        "print (rawFileList)"
      ]
    },
    {
      "cell_type": "code",
      "execution_count": null,
      "metadata": {
        "id": "0yRdtWU-o2n_"
      },
      "outputs": [],
      "source": [
        "dfLabel = pd.read_csv(fname2 + '//' + rawFileList[0])\n",
        "dfLabel['name'] = dfLabel.apply(lambda row: row.scene.split('_')[3], axis=1)\n",
        "label = dfLabel.loc[dfLabel['name'] == 's20192210221197', 'fire'].iloc[0]\n",
        "print (label)"
      ]
    },
    {
      "cell_type": "code",
      "execution_count": null,
      "metadata": {
        "id": "eonhV2lGpeHA"
      },
      "outputs": [],
      "source": [
        "temp_series = rawFileList[1:]\n",
        "timeSeriesName = temp_series[0:17]\n",
        "print(timeSeriesName)"
      ]
    },
    {
      "cell_type": "code",
      "execution_count": null,
      "metadata": {
        "id": "xiX-bF6Zo2rS"
      },
      "outputs": [],
      "source": [
        "channel7List = []\n",
        "channel7Name = []\n",
        "for name in timeSeriesName:\n",
        "    channelData = np.array(zarr.open(fname2 + '//' + name)[:, :, 6]) # select channel 7\n",
        "    channel7List.append(channelData)\n",
        "    channel7Name.append(name)\n",
        "print(channel7List[0])\n",
        "print (len(channel7List))"
      ]
    },
    {
      "cell_type": "code",
      "execution_count": null,
      "metadata": {
        "id": "fdcEyoNe85FP"
      },
      "outputs": [],
      "source": [
        "fname2 = 'Tiles_2021_2022'\n",
        "rawFileList = os.listdir(fname2)\n",
        "print (rawFileList)\n",
        "print (len(rawFileList))"
      ]
    },
    {
      "cell_type": "code",
      "execution_count": null,
      "metadata": {
        "id": "iFwD0e6m-4yF"
      },
      "outputs": [],
      "source": [
        "#fname2 = 'Tiles'\n",
        "csvName = 'Fire_Labels_2020-2021.csv'\n",
        "#csvName2 = 'Fire_Labels_2020-2021.csv'\n",
        "dfLabel = pd.read_csv(csvName)[['fname', 'fire']]\n",
        "#dfLabel2 = pd.read_csv(csvName2)[['fname', 'fire']]\n",
        "\n",
        "#rawFileList = dfLabel['fname'].tolist()\n",
        "#fireDays = dfLabel.loc[dfLabel['fire'] == 1, 'fname'].tolist()\n",
        "#print (fireDays)\n",
        "\n",
        "#noFireDays = dfLabel.loc[dfLabel['fire'] == 0, 'fname'].tolist()\n",
        "\n",
        "#print (len(fireDays) + len(noFireDays))\n",
        "\n",
        "label = dfLabel.loc[dfLabel['fname'] == 'Tile_1_33_20203370001177.zarr', 'fire'].iloc[0]\n",
        "print (label)"
      ]
    },
    {
      "cell_type": "code",
      "execution_count": null,
      "metadata": {
        "colab": {
          "base_uri": "https://localhost:8080/"
        },
        "id": "BOaU1V2lvYtI",
        "outputId": "b221f029-b319-43e1-f4f5-3edd2ca1d78f"
      },
      "outputs": [
        {
          "name": "stdout",
          "output_type": "stream",
          "text": [
            "20\n"
          ]
        }
      ],
      "source": [
        "print (len(rawFileList))"
      ]
    },
    {
      "cell_type": "code",
      "execution_count": null,
      "metadata": {
        "colab": {
          "base_uri": "https://localhost:8080/"
        },
        "id": "JqtPASmd88YR",
        "outputId": "8da135ba-ebb5-40f2-cb0d-1cb540ac6b47"
      },
      "outputs": [
        {
          "name": "stdout",
          "output_type": "stream",
          "text": [
            "425\n"
          ]
        }
      ],
      "source": [
        "channel7List = []\n",
        "channel7Name = []\n",
        "timeSeriesDict = {}\n",
        "\n",
        "for name in rawFileList:\n",
        "    channelData = np.array(zarr.open(fname2 + '//' + name)[:, :, 0]) # select channel 7\n",
        "    timeSeriesDict[name] = channelData\n",
        "    channel7List.append(channelData)\n",
        "    channel7Name.append(name)\n",
        "\n",
        "print (len(channel7List))"
      ]
    },
    {
      "cell_type": "code",
      "execution_count": null,
      "metadata": {
        "id": "w9zNpVH_-RJH"
      },
      "outputs": [],
      "source": [
        "# plot channel 7 timeseries\n",
        "fig, axs = plt.subplots(85, 5, figsize=(15, 30))\n",
        "\n",
        "for i in range(85):\n",
        "    for j in range(5):\n",
        "        axs[i, j].imshow(channel7List[i* 5 + j], vmin=0, vmax=1) # vmin, vmax may change on different tiles\n",
        "        label = dfLabel.loc[dfLabel['fname'] == channel7Name[i* 5 + j], 'fire'].iloc[0]\n",
        "        axs[i, j].title.set_text('Label {}'.format(label))\n",
        "\n",
        "plt.tight_layout()"
      ]
    },
    {
      "cell_type": "code",
      "execution_count": null,
      "metadata": {
        "id": "89QJff7w2DFj"
      },
      "outputs": [],
      "source": [
        "def extract_PD_arrays_with_freudenthal_triangulation(data, lower_bound = 0, upper_bound = 8): #change upper bound!!!!!!!!!!\n",
        "\n",
        "    f_lower_star = d.fill_freudenthal(np.array(data, dtype='float64'))\n",
        "    p = d.homology_persistence(f_lower_star)\n",
        "    dgms = d.init_diagrams(p, f_lower_star)\n",
        "    birth0=np.array([dgm.birth for dgm in dgms[0]])\n",
        "    death0=np.array([dgm.death for dgm in dgms[0]])\n",
        "    death0[death0==np.Infinity] = upper_bound\n",
        "    birth1=np.array([dgm.birth for dgm in dgms[1]])\n",
        "    death1=np.array([dgm.death for dgm in dgms[1]])\n",
        "    death1[death1==np.Infinity] = upper_bound\n",
        "\n",
        "    return [[birth0,death0],[birth1,death1]]"
      ]
    },
    {
      "cell_type": "code",
      "execution_count": null,
      "metadata": {
        "id": "ju55_Azl_q9M"
      },
      "outputs": [],
      "source": [
        "fig, axs = plt.subplots(3, 6, figsize=(25, 50))\n",
        "\n",
        "pd0_union = []\n",
        "pd1_union = []\n",
        "groundTruth = []\n",
        "for i in range(3):\n",
        "    for j in range(6):\n",
        "        lower_bound = 0\n",
        "        upper_bound = 3\n",
        "\n",
        "        p0, p1 = extract_PD_arrays_with_freudenthal_triangulation(channel7List[i* 6 + j], lower_bound = lower_bound, upper_bound = upper_bound)\n",
        "        pd0_union.append(p0)\n",
        "        pd1_union.append(p1)\n",
        "        #axs[i, j].scatter(birth0, death0, color='r', s=5, label = 'Dimension 0')\n",
        "        axs[i, j].scatter(p1[0], p1[1], marker='^', s=5, facecolors='none', edgecolor='blue', label = 'Dimension 1')\n",
        "        #axs[i, j].scatter(p0[0], p0[1], marker='^', s=5, facecolors='none', edgecolor='red', label = 'Dimension 0')\n",
        "        axs[i, j].plot(np.arange(lower_bound, upper_bound), np.arange(lower_bound, upper_bound), '-', color='grey', lw=0.5)\n",
        "        #axs[i, j].plot(np.arange(lower_bound, upper_bound), 2, '-', color='grey', lw=0.5)\n",
        "        axs[i, j].axhline(y = 0.5, color='r', linestyle='--')\n",
        "\n",
        "        label = dfLabel.loc[dfLabel['fname'] == channel7Name[i* 6 + j], 'fire'].iloc[0]\n",
        "        groundTruth.append(label)\n",
        "        axs[i, j].title.set_text('Label {}'.format(label))\n",
        "        #axs[i, j].set_xlabel('Birth')\n",
        "        #axs[i, j].set_ylabel('Death')\n",
        "\n",
        "#plt.tight_layout()\n",
        "#plt.show()"
      ]
    },
    {
      "cell_type": "code",
      "execution_count": null,
      "metadata": {
        "colab": {
          "base_uri": "https://localhost:8080/",
          "height": 513
        },
        "id": "gD_h5ioiqOTp",
        "outputId": "61482ed9-9589-4f3d-a7d2-4ef791bb5cc9"
      },
      "outputs": [
        {
          "data": {
            "image/png": "[encoded data removed]",
            "text/plain": [
              "<Figure size 2100x900 with 17 Axes>"
            ]
          },
          "metadata": {},
          "output_type": "display_data"
        }
      ],
      "source": [
        "fig, axs = plt.subplots(3, 6, figsize=(21, 9))\n",
        "\n",
        "pd0_union = []\n",
        "pd1_union = []\n",
        "for i in range(3):\n",
        "    for j in range(6):\n",
        "        if i* 6 + j <= 16:\n",
        "            lower_bound = 0\n",
        "            upper_bound = 8\n",
        "\n",
        "            plt.tight_layout()\n",
        "\n",
        "            p0, p1 = extract_PD_arrays_with_freudenthal_triangulation(channel7List[i* 6 + j], lower_bound = lower_bound, upper_bound = upper_bound)\n",
        "            pd0_union.append(p0)\n",
        "            pd1_union.append(p1)\n",
        "            #axs[i, j].scatter(birth0, death0, color='r', s=5, label = 'Dimension 0')\n",
        "            axs[i, j].scatter(p1[0], p1[1], marker='^', s=5, facecolors='none', edgecolor='blue', label = 'Dimension 1')\n",
        "            axs[i, j].plot(np.arange(lower_bound, upper_bound), np.arange(lower_bound, upper_bound), '-', color='grey', lw=0.5)\n",
        "            #axs[i, j].plot(np.arange(lower_bound, upper_bound), 2, '-', color='grey', lw=0.5)\n",
        "            axs[i, j].axhline(y = 2, color='r', linestyle='--')\n",
        "\n",
        "            seriesStartTime = channel7Name[i* 6 + j].split('_')[3].split('.')[0]\n",
        "            label = dfLabel.loc[dfLabel['name'] == seriesStartTime, 'fire'].iloc[0]\n",
        "            axs[i, j].title.set_text('Label {}'.format(label))\n",
        "            #axs[i, j].set_xlabel('Birth')\n",
        "            #axs[i, j].set_ylabel('Death')\n",
        "            axs[2,5].set_visible(False)\n",
        "\n",
        "\n",
        "fig.delaxes(axs[2, 0])\n",
        "plt.show()"
      ]
    },
    {
      "cell_type": "code",
      "execution_count": null,
      "metadata": {
        "id": "66otmiUmYR3x"
      },
      "outputs": [],
      "source": [
        "def optimalDBSCAN(data, score_, eps, metric='euclidean', bMax=True, distType=0):\n",
        "    eps_range=np.arange(eps['min'],eps['max'],eps['inc'])\n",
        "    min_samples_range=range(2,10)\n",
        "    if bMax==True:\n",
        "        best_score =-1e9\n",
        "    else:\n",
        "        best_score =1e9\n",
        "\n",
        "    eps_ask=0\n",
        "    min_samples_ask=0\n",
        "    clustering_ask=None\n",
        "    print(\"score, best_score, eps, eps_ask, min_samples, min_samples_ask\")\n",
        "    for min_samples in min_samples_range:\n",
        "     for eps in eps_range:\n",
        "      clustering = DBSCAN(eps=eps, min_samples=min_samples, metric=metric)\n",
        "      clustering.fit(data)\n",
        "      if len(np.unique(clustering.labels_))>1:\n",
        "        if distType==0:\n",
        "            score=score_(data, clustering.labels_)\n",
        "        elif distType==1:\n",
        "            dist=pairwise_distances(data)\n",
        "            score=score_(dist, clustering.labels_)\n",
        "        elif distType==2:\n",
        "            dist=pairwise_distances(data)\n",
        "            score=score_(data, dist, clustering.labels_)\n",
        "        if (score>best_score and bMax==True):\n",
        "          best_score=score\n",
        "          eps_ask=eps\n",
        "          min_samples_ask=min_samples\n",
        "          clustering_ask=clustering\n",
        "        elif(score<best_score and bMax==False):\n",
        "          best_score=score\n",
        "          eps_ask=eps\n",
        "          min_samples_ask=min_samples\n",
        "          clustering_ask=clustering\n",
        "        print(score, best_score, eps, eps_ask, min_samples, min_samples_ask)\n",
        "    return(best_score, eps_ask, min_samples_ask, clustering_ask)\n",
        "\n",
        "def optimalHClust(data, score_, metric='euclidean', bMax=True, distType=0):\n",
        "    if bMax==True:\n",
        "        best_score =-1e9\n",
        "    else:\n",
        "        best_score =1e9\n",
        "    linkage_ask = ''\n",
        "    n_ask = 2\n",
        "    clustering_ask = None\n",
        "    print(\"score, best_score, i, n_ask, linkage, linkage_ask\")\n",
        "    for i in range(2, 7):\n",
        "        for linkage in ['complete', 'average', 'single']:\n",
        "            clustering= AgglomerativeClustering(n_clusters=i, affinity=metric, linkage=linkage)\n",
        "            #clustering = DBSCAN(eps=eps, min_samples=min_samples, metric=metric)\n",
        "            clustering.fit(data)\n",
        "            if len(np.unique(clustering.labels_))>1:\n",
        "                if distType==0:\n",
        "                    score=score_(data, clustering.labels_)\n",
        "                elif distType==1:\n",
        "                    dist=pairwise_distances(data)\n",
        "                    score=score_(dist, clustering.labels_)\n",
        "                elif distType==2:\n",
        "                    dist=pairwise_distances(data)\n",
        "                    score=score_(data, dist, clustering.labels_)\n",
        "                if (score>best_score and bMax==True):\n",
        "                    best_score=score\n",
        "                    linkage_ask=linkage\n",
        "                    n_ask=i\n",
        "                    clustering_ask=clustering\n",
        "                elif(score<best_score and bMax==False):\n",
        "                    best_score=score\n",
        "                    linkage_ask=linkage\n",
        "                    n_ask=i\n",
        "                    clustering_ask=clustering\n",
        "                print(score, best_score, i, n_ask, linkage, linkage_ask)\n",
        "    return(best_score, n_ask, linkage_ask, clustering_ask)"
      ]
    },
    {
      "cell_type": "code",
      "execution_count": null,
      "metadata": {
        "id": "ZTxak0hfNNcQ"
      },
      "outputs": [],
      "source": [
        "def PD2Silhoutte(PDList, resolution = 100):\n",
        "    SH = gd.representations.Silhouette(resolution=resolution, weight=lambda x: np.power(x[1]-x[0],1))\n",
        "    SilList = []\n",
        "    for i in range(len(PDList)):\n",
        "        sh = SH.fit_transform([PDList[i]])[0]\n",
        "        SilList.append(sh)\n",
        "    return SilList"
      ]
    },
    {
      "cell_type": "code",
      "execution_count": null,
      "metadata": {
        "id": "hu11biumlW5h"
      },
      "outputs": [],
      "source": [
        "PDList = []\n",
        "for i in pd1_union:\n",
        "    temp = np.vstack((i[0], i[1])).T\n",
        "    PDList.append(temp)"
      ]
    },
    {
      "cell_type": "code",
      "execution_count": null,
      "metadata": {
        "colab": {
          "base_uri": "https://localhost:8080/"
        },
        "id": "mr1VdiAQqYjR",
        "outputId": "f805b3f3-adf0-4398-edeb-ac466a1b9783"
      },
      "outputs": [
        {
          "data": {
            "text/plain": [
              "17"
            ]
          },
          "execution_count": 49,
          "metadata": {},
          "output_type": "execute_result"
        }
      ],
      "source": [
        "len(PDList)"
      ]
    },
    {
      "cell_type": "markdown",
      "metadata": {
        "id": "B006tAAz8m1j"
      },
      "source": [
        "DDALPHA"
      ]
    },
    {
      "cell_type": "code",
      "execution_count": null,
      "metadata": {
        "colab": {
          "base_uri": "https://localhost:8080/"
        },
        "id": "_k8TtnxED8Ty",
        "outputId": "e8d9ba8b-0ebd-4ac4-c7e1-2e09956479db"
      },
      "outputs": [
        {
          "output_type": "stream",
          "name": "stdout",
          "text": [
            "total 46442\n",
            "-rw------- 1 root root 46916360 Jan 19  2023  OR_ABI-L1b-RadC-M6C01_G17_s20192191931196_e20192191933569_c20192191934019.7z\n",
            "drwx------ 2 root root     4096 Jan 25  2023 'Sample Data'\n",
            "drwx------ 2 root root     4096 Jan 25  2023  content\n",
            "-rw------- 1 root root   323836 Jan 25  2023  MERRA2_t2m_GP_20210201-20210228.nc\n",
            "drwx------ 2 root root     4096 Jan 29  2023  DATA\n",
            "-rw------- 1 root root    78458 Mar  5  2023  pds.pdf\n",
            "-rw------- 1 root root   169870 Mar  5  2023  pis.pdf\n",
            "-rw------- 1 root root       56 Apr  6  2023  addnums.r\n",
            "-rw------- 1 root root      618 Apr  7  2023  vector_ddalpha.r\n",
            "drwx------ 2 root root     4096 Apr 12  2023  Tile_1_33\n",
            "drwx------ 2 root root     4096 Apr 12  2023  Tile_1_33_s20192192041196.zarr\n",
            "-rw------- 1 root root      283 Apr 12  2023  vector_ddalpha_11.R\n",
            "-rw------- 1 root root     3407 Apr 24  2023  vector_ddalpha_1.R\n",
            "drwx------ 2 root root     4096 May 22 23:22  Labels\n",
            "drwx------ 2 root root     4096 May 23 04:20  Tile_1_33_20200550001176.zarr\n",
            "drwx------ 2 root root     4096 May 23 23:16  Tiles_2021_2022\n",
            "drwx------ 2 root root     4096 May 28 21:06 'Fire Detection'\n",
            "-rw------- 1 root root     3967 Aug  9 21:51  ddalpha.R\n",
            "-rw------- 1 root root     7045 Oct  1 20:35 'Extremal Depth on Sample Data 2.csv'\n",
            "-rw------- 1 root root     7125 Oct  2 00:26  SilList.csv\n",
            "-rw------- 1 root root      178 Oct  2 00:26  SilList.gsheet\n",
            "-rw------- 1 root root      178 Oct  2 00:30 'Extremal Depth on Fire Data - Sample of 40.gsheet'\n",
            "-rw------- 1 root root     4284 Nov  6 18:35 'ddalpha(1).R'\n",
            "time: 115 ms (started: 2023-11-06 18:39:38 +00:00)\n"
          ]
        }
      ],
      "source": [
        "os.chdir(\"/content/drive/My Drive/NASA\")\n",
        "!ls -ltr"
      ]
    },
    {
      "cell_type": "code",
      "execution_count": null,
      "metadata": {
        "id": "IvgZ5iUy8xvG"
      },
      "outputs": [],
      "source": [
        "r = robjects.r\n",
        "r['source']('ddalpha(1).R')"
      ]
    },
    {
      "cell_type": "code",
      "execution_count": null,
      "metadata": {
        "colab": {
          "base_uri": "https://localhost:8080/"
        },
        "id": "9cfhfQd28zAy",
        "outputId": "e4da8d74-fbec-428a-95cc-81128fda5dd8"
      },
      "outputs": [
        {
          "output_type": "stream",
          "name": "stdout",
          "text": [
            "time: 9.32 ms (started: 2023-11-06 18:45:25 +00:00)\n"
          ]
        }
      ],
      "source": [
        "simplicial_volume = robjects.globalenv['simplicial_volume_list']\n",
        "convex_hull_peeling = robjects.globalenv['convex_hull_peeling_list']\n",
        "zoinoid = robjects.globalenv['zonoid_depth_list']\n",
        "spatial = robjects.globalenv['spatial_depth_list']\n",
        "mahalanobis = robjects.globalenv['mahalanobis_depth_list']\n",
        "halfspace = robjects.globalenv['halfspace_depth_list']\n",
        "halfspace_exact = robjects.globalenv['halfspace__exact_depth_list']\n",
        "projection = robjects.globalenv['projection_depth_list']\n",
        "simplicial = robjects.globalenv['simplicial_depth_list']"
      ]
    },
    {
      "cell_type": "code",
      "execution_count": null,
      "metadata": {
        "colab": {
          "base_uri": "https://localhost:8080/"
        },
        "id": "EZKjwQnc_FOj",
        "outputId": "c1f99ff6-1813-4753-c331-cb3d6f84d838"
      },
      "outputs": [
        {
          "output_type": "stream",
          "name": "stdout",
          "text": [
            "time: 6.09 ms (started: 2023-11-06 18:45:30 +00:00)\n"
          ]
        }
      ],
      "source": [
        "S = []\n",
        "for i in range(200):\n",
        "   S.append(np.random.uniform(size = 5, low = 0, high = 10))"
      ]
    },
    {
      "cell_type": "code",
      "execution_count": null,
      "metadata": {
        "colab": {
          "base_uri": "https://localhost:8080/"
        },
        "id": "SWFdSedQ8z1-",
        "outputId": "7f80436d-4935-480a-fc8d-fa8ca9849353"
      },
      "outputs": [
        {
          "output_type": "stream",
          "name": "stdout",
          "text": [
            "time: 74.1 ms (started: 2023-11-06 18:46:12 +00:00)\n"
          ]
        }
      ],
      "source": [
        "# Vectorize the PDs then do cluster\n",
        "# Vectorize by Silhoutte\n",
        "#SilList = PD2Silhoutte(PDList, resolution=10)\n",
        "#Pass silList to R\n",
        "m = robjects.r['matrix'](S, nrow=len(S), ncol=5) #specify number of columns and rows"
      ]
    },
    {
      "cell_type": "code",
      "execution_count": null,
      "metadata": {
        "id": "UTK6Rnmj810j"
      },
      "outputs": [],
      "source": [
        "# Simplicial Volume\n",
        "temp_list = simplicial_volume(m, len(S), 5)\n",
        "list_r = []\n",
        "for i in temp_list:\n",
        "  list_r.append(i[0])\n",
        "simplexVolDepthList = list_r\n",
        "print(len(S))\n",
        "#fig, axs = plt.subplots(3, 6, figsize=(21, 15))\n",
        "#for i in range(3):\n",
        "   # for j in range(6):\n",
        "       # if i* 6 + j <= 16:\n",
        "           # axs[i, j].plot(SilList[i*6 + j])\n",
        "           # axs[i, j].set_ylim(0, 1)\n",
        "            #axs[i, j].title.set_text('Label {}, Data Depth {:.3f}'.format(groundTruth[i*6 + j], simplexVolDepthList[i*6 + j]))\n",
        "\n",
        "#plt.tight_layout()\n",
        "#plt.show()"
      ]
    },
    {
      "cell_type": "code",
      "execution_count": null,
      "metadata": {
        "colab": {
          "background_save": true,
          "base_uri": "https://localhost:8080/"
        },
        "id": "3vGQrL5AH_kV",
        "outputId": "a7ecfced-74e8-4651-9666-8b7791ad36e7"
      },
      "outputs": [
        {
          "name": "stdout",
          "output_type": "stream",
          "text": [
            "time: 21.2 s (started: 2023-11-04 20:10:51 +00:00)\n"
          ]
        }
      ],
      "source": [
        "#Halfspace (exact)\n",
        "temp_list = halfspace_exact(m, len(S), 3)\n",
        "list_r = []\n",
        "for i in temp_list:\n",
        "  list_r.append(i[0])\n",
        "HalfspaceDepthList = list_r\n",
        "#fig, axs = plt.subplots(3, 6, figsize=(15, 30))\n",
        "#for i in range(3):\n",
        " #   for j in range(6):\n",
        "  #      if i* 6 + j <= 16:\n",
        "   #         axs[i, j].plot(SilList[i*6 + j])\n",
        "    #        axs[i, j].set_ylim(0, 1)\n",
        "     #       axs[i, j].title.set_text('Label {}, Data Depth {:.3f}'.format(groundTruth[i*6+ j], HalfspaceDepthList[i*6 + j]))\n",
        "\n",
        "#plt.tight_layout()\n",
        "#plt.show()"
      ]
    },
    {
      "cell_type": "code",
      "execution_count": null,
      "metadata": {
        "id": "1MqQ8F0Y84Nt"
      },
      "outputs": [],
      "source": [
        "plt.clf()\n",
        "# Convex Hull Peeling\n",
        "temp_list = convex_hull_peeling(m)\n",
        "list_r = []\n",
        "for i in temp_list:\n",
        "  list_r.append(i[0])\n",
        "CHPDepthList = list_r\n",
        "fig, axs = plt.subplots(4, 6, figsize=(21, 15))\n",
        "for i in range(4):\n",
        "    for j in range(6):\n",
        "        if i* 6 + j <= 24:\n",
        "            axs[i, j].plot(SilList[i*6 + j])\n",
        "            axs[i, j].set_ylim(0, 1)\n",
        "            axs[i, j].title.set_text('Label {}, Data Depth {:.3f}'.format(groundTruth[i*6 + j], CHPDepthList[i*6 + j]))\n",
        "\n",
        "plt.tight_layout()\n",
        "plt.show()"
      ]
    },
    {
      "cell_type": "code",
      "execution_count": null,
      "metadata": {
        "id": "90yKwPPD85VI"
      },
      "outputs": [],
      "source": [
        "#Zoinoid\n",
        "temp_list = zoinoid(m)\n",
        "list_r = []\n",
        "for i in temp_list:\n",
        "  list_r.append(i[0])\n",
        "ZoinoidDepthList = list_r\n",
        "fig, axs = plt.subplots(85, 5, figsize=(21, 15))\n",
        "for i in range(85):\n",
        "    for j in range(5):\n",
        "        if i* 6 + j <= 425:\n",
        "            axs[i, j].plot(SilList[i*6 + j])\n",
        "            axs[i, j].set_ylim(0, 1)\n",
        "            axs[i, j].title.set_text('Label {}, Data Depth {:.3f}'.format(groundTruth[i*6 + j], ZoinoidDepthList[i*6 + j]))\n",
        "\n",
        "plt.tight_layout()\n",
        "plt.show()"
      ]
    },
    {
      "cell_type": "code",
      "execution_count": null,
      "metadata": {
        "id": "DLLDO2Xy86f7"
      },
      "outputs": [],
      "source": [
        "#Spatial\n",
        "temp_list = spatial(m)\n",
        "list_r = []\n",
        "for i in temp_list:\n",
        "  list_r.append(i[0])\n",
        "SpatialDepthList = list_r\n",
        "fig, axs = plt.subplots(4, 6, figsize=(21, 15))\n",
        "for i in range(4):\n",
        "    for j in range(6):\n",
        "        if i* 6 + j <= 24:\n",
        "            axs[i, j].plot(SilList[i*6 + j])\n",
        "            axs[i, j].set_ylim(0, 1)\n",
        "            axs[i, j].title.set_text('Label {}, Data Depth {:.3f}'.format(groundTruth[i*6 + j], SpatialDepthList[i*6 + j]))\n",
        "\n",
        "plt.tight_layout()\n",
        "plt.show()"
      ]
    },
    {
      "cell_type": "code",
      "execution_count": null,
      "metadata": {
        "id": "KwMKZnP687o8"
      },
      "outputs": [],
      "source": [
        "#Mahalanobis\n",
        "temp_list = mahalanobis(m, 425, 10)\n",
        "list_r = []\n",
        "for i in temp_list:\n",
        "  list_r.append(i[0])\n",
        "MahalanobisDepthList = list_r\n",
        "fig, axs = plt.subplots(4, 6, figsize=(21, 15))\n",
        "for i in range(4):\n",
        "    for j in range(6):\n",
        "        if i* 6 + j <= 24:\n",
        "            axs[i, j].plot(SilList[i*6 + j])\n",
        "            axs[i, j].set_ylim(0, 1)\n",
        "            axs[i, j].title.set_text('Label {}, Data Depth {:.3f}'.format(groundTruth[i*6+ j], MahalanobisDepthList[i*6 + j]))\n",
        "\n",
        "\n",
        "plt.tight_layout()\n",
        "plt.show()"
      ]
    },
    {
      "cell_type": "code",
      "execution_count": null,
      "metadata": {
        "colab": {
          "base_uri": "https://localhost:8080/",
          "height": 246
        },
        "id": "_drzoaG488x9",
        "outputId": "ca295d8b-e322-433b-c5fc-36b81ecada3a"
      },
      "outputs": [
        {
          "ename": "NameError",
          "evalue": "ignored",
          "output_type": "error",
          "traceback": [
            "\u001b[0;31m---------------------------------------------------------------------------\u001b[0m",
            "\u001b[0;31mNameError\u001b[0m                                 Traceback (most recent call last)",
            "\u001b[0;32m<ipython-input-3-71127bf9eaa8>\u001b[0m in \u001b[0;36m<cell line: 3>\u001b[0;34m()\u001b[0m\n\u001b[1;32m      1\u001b[0m \u001b[0mu_param\u001b[0m \u001b[0;34m=\u001b[0m \u001b[0;36m6\u001b[0m\u001b[0;34m\u001b[0m\u001b[0;34m\u001b[0m\u001b[0m\n\u001b[1;32m      2\u001b[0m \u001b[0;31m#Halfspace\u001b[0m\u001b[0;34m\u001b[0m\u001b[0;34m\u001b[0m\u001b[0m\n\u001b[0;32m----> 3\u001b[0;31m \u001b[0mtemp_list\u001b[0m \u001b[0;34m=\u001b[0m \u001b[0mhalfspace\u001b[0m\u001b[0;34m(\u001b[0m\u001b[0mm\u001b[0m\u001b[0;34m,\u001b[0m \u001b[0;36m30\u001b[0m\u001b[0;34m,\u001b[0m \u001b[0;36m10\u001b[0m\u001b[0;34m)\u001b[0m\u001b[0;34m\u001b[0m\u001b[0;34m\u001b[0m\u001b[0m\n\u001b[0m\u001b[1;32m      4\u001b[0m \u001b[0mlist_r\u001b[0m \u001b[0;34m=\u001b[0m \u001b[0;34m[\u001b[0m\u001b[0;34m]\u001b[0m\u001b[0;34m\u001b[0m\u001b[0;34m\u001b[0m\u001b[0m\n\u001b[1;32m      5\u001b[0m \u001b[0;32mfor\u001b[0m \u001b[0mi\u001b[0m \u001b[0;32min\u001b[0m \u001b[0mtemp_list\u001b[0m\u001b[0;34m:\u001b[0m\u001b[0;34m\u001b[0m\u001b[0;34m\u001b[0m\u001b[0m\n",
            "\u001b[0;31mNameError\u001b[0m: name 'halfspace' is not defined"
          ]
        }
      ],
      "source": [
        "u_param = 6\n",
        "#Halfspace\n",
        "temp_list = halfspace(m, 30, 10)\n",
        "list_r = []\n",
        "for i in temp_list:\n",
        "  list_r.append(i[0])\n",
        "HalfspaceDepthList = list_r\n",
        "fig, axs = plt.subplots(3, 6, figsize=(15, 30))\n",
        "for i in range(3):\n",
        "    for j in range(6):\n",
        "        if i* u_param + j <= 16:\n",
        "            axs[i, j].plot(SilList[i*u_param + j])\n",
        "            axs[i, j].set_ylim(0, 1)\n",
        "            axs[i, j].title.set_text('Label {}, Data Depth {:.3f}'.format(groundTruth[i*u_param + j], HalfspaceDepthList[i*u_param + j]))\n",
        "\n",
        "plt.tight_layout()\n",
        "#plt.show()"
      ]
    },
    {
      "cell_type": "code",
      "execution_count": null,
      "metadata": {
        "colab": {
          "base_uri": "https://localhost:8080/"
        },
        "id": "Dr1Nk50HnFgF",
        "outputId": "37133876-56a0-4fb6-f698-275324d79d2e"
      },
      "outputs": [
        {
          "name": "stdout",
          "output_type": "stream",
          "text": [
            "12\n",
            "0.0\n",
            "5\n"
          ]
        }
      ],
      "source": [
        "fire_label = []\n",
        "no_fire_label = []\n",
        "\n",
        "for i in range(len(groundTruth)):\n",
        "  if groundTruth[i] == 0: #no fire\n",
        "    no_fire_label.append(temp_list[i])\n",
        "  else: #fire\n",
        "    fire_label.append(temp_list[i])\n",
        "\n",
        "print(len(fire_label))\n",
        "print(np.max(fire_label))\n",
        "print(len(no_fire_label))"
      ]
    },
    {
      "cell_type": "code",
      "execution_count": null,
      "metadata": {
        "colab": {
          "base_uri": "https://localhost:8080/"
        },
        "id": "KcHwS3JLRi5v",
        "outputId": "db861e66-43f2-4f4c-c5fb-2a8a64ade9cb"
      },
      "outputs": [
        {
          "name": "stdout",
          "output_type": "stream",
          "text": [
            "119.58941141594507\n"
          ]
        }
      ],
      "source": [
        "log_entropy = 0\n",
        "\n",
        "for i in range(len(groundTruth)):\n",
        "    if groundTruth[i] == 1:\n",
        "      if np.max(fire_label) == 0.0:\n",
        "        log_entropy = log_entropy + math.log2(0.001)\n",
        "      else:\n",
        "        log_entropy = log_entropy + math.log2(np.max(fire_label))\n",
        "    else:\n",
        "      temp_num = math.log2(1-np.max(no_fire_label))\n",
        "      log_entropy = log_entropy + temp_num\n",
        "print(-log_entropy)"
      ]
    },
    {
      "cell_type": "code",
      "execution_count": null,
      "metadata": {
        "id": "g0tgUcco5-p5"
      },
      "outputs": [],
      "source": [
        "#Halfspace (exact)\n",
        "temp_list = halfspace_exact(m, 17, 10)\n",
        "list_r = []\n",
        "for i in temp_list:\n",
        "  list_r.append(i[0])\n",
        "HalfspaceDepthList = list_r\n",
        "fig, axs = plt.subplots(3, 6, figsize=(15, 30))\n",
        "for i in range(3):\n",
        "    for j in range(6):\n",
        "        if i* 6 + j <= 16:\n",
        "            axs[i, j].plot(SilList[i*6 + j])\n",
        "            axs[i, j].set_ylim(0, 1)\n",
        "            axs[i, j].title.set_text('Label {}, Data Depth {:.3f}'.format(groundTruth[i*6+ j], HalfspaceDepthList[i*6 + j]))\n",
        "\n",
        "plt.tight_layout()\n",
        "#plt.show()"
      ]
    },
    {
      "cell_type": "code",
      "execution_count": null,
      "metadata": {
        "id": "o46Q5FZq89vX"
      },
      "outputs": [],
      "source": [
        "#Projection\n",
        "temp_list = projection(m)\n",
        "list_r = []\n",
        "for i in temp_list:\n",
        "  list_r.append(i[0])\n",
        "ProjectionDepthList = list_r\n",
        "fig, axs = plt.subplots(4, 6, figsize=(21, 15))\n",
        "for i in range(4):\n",
        "    for j in range(6):\n",
        "        if i* 6+ j <= 24:\n",
        "            axs[i, j].plot(SilList[i*6 + j])\n",
        "            axs[i, j].set_ylim(0, 1)\n",
        "            axs[i, j].title.set_text('Label {}, Data Depth {:.3f}'.format(groundTruth[i*6 + j], ProjectionDepthList[i*6 + j]))\n",
        "\n",
        "plt.tight_layout()\n",
        "plt.show()"
      ]
    },
    {
      "cell_type": "code",
      "execution_count": null,
      "metadata": {
        "id": "bvX9Fce38_Nd"
      },
      "outputs": [],
      "source": [
        "#Simplicial\n",
        "temp_list = simplicial(m)\n",
        "list_r = []\n",
        "for i in temp_list:\n",
        "  list_r.append(i[0])\n",
        "SimplicialDepthList = list_r\n",
        "fig, axs = plt.subplots(4, 6, figsize=(21, 15))\n",
        "for i in range(4):\n",
        "    for j in range(6):\n",
        "        if i* 6 + j <= 24:\n",
        "            axs[i, j].plot(SilList[i*6 + j])\n",
        "            axs[i, j].set_ylim(0, 1)\n",
        "            axs[i, j].title.set_text('Label {}, Data Depth {:.3f}'.format(groundTruth[i*6 + j], SimplicialDepthList[i*6 + j]))\n",
        "\n",
        "plt.tight_layout()\n",
        "plt.show()"
      ]
    },
    {
      "cell_type": "code",
      "execution_count": null,
      "metadata": {
        "id": "3eYzMFCcNn2N"
      },
      "outputs": [],
      "source": [
        "# Vectorize the PDs then do cluster\n",
        "# Vectorize by Silhoutte\n",
        "SilList = PD2Silhoutte(PDList, resolution=10)\n",
        "\n",
        "print (len(SilList))\n",
        "\n",
        "# Result from R\n",
        "# simplexVolDepthList = [0.9782665, 0.9598752, 0.9803188, 0.9715499, 0.979676, 0.968288, 0.954594, 0.4730382, 0.9818818, 0.6771605, 0.9807952, 0.9813164, 0.9812129, 0.9795362, 0.9805354, 0.9723188, 0.962765, 0.000]\n",
        "\n",
        "fig, axs = plt.subplots(4, 6, figsize=(21, 15))\n",
        "for i in range(4):\n",
        "    for j in range(6):\n",
        "        axs[i, j].plot(SilList[i*6 + j])\n",
        "        axs[i, j].set_ylim(0, 1)\n",
        "\n",
        "        #axs[i, j].title.set_text('Label {}, Data Depth {:.3f}'.format(groundTruth[i*6 + j], simplexVolDepthList[i*6 + j])) # Add later with data depth value\n",
        "        axs[i, j].title.set_text('Label {}'.format(groundTruth[i*6 + j]))\n",
        "\n",
        "plt.tight_layout()\n",
        "plt.show()"
      ]
    },
    {
      "cell_type": "markdown",
      "metadata": {
        "id": "Y7q1Ue7UE4dc"
      },
      "source": [
        "DDAlpha Time Plot"
      ]
    },
    {
      "cell_type": "code",
      "execution_count": null,
      "metadata": {
        "colab": {
          "base_uri": "https://localhost:8080/"
        },
        "id": "2RDgjQGeFXzV",
        "outputId": "b77c24ba-c081-4a53-8f69-f50321a2c725"
      },
      "outputs": [
        {
          "name": "stdout",
          "output_type": "stream",
          "text": [
            "time: 360 ms (started: 2023-08-07 16:17:47 +00:00)\n"
          ]
        }
      ],
      "source": [
        "  simplicial_volume = robjects.globalenv['simplicial_volume_list']\n",
        "  convex_hull_peeling = robjects.globalenv['convex_hull_peeling_list']\n",
        "  zoinoid = robjects.globalenv['zonoid_depth_list']\n",
        "  spatial = robjects.globalenv['spatial_depth_list']\n",
        "  mahalanobis = robjects.globalenv['mahalanobis_depth_list']\n",
        "  halfspace = robjects.globalenv['halfspace_depth_list']\n",
        "  projection = robjects.globalenv['projection_depth_list']\n",
        "  simplicial = robjects.globalenv['simplicial_depth_list']\n",
        "  SilList = PD2Silhoutte(PDList, resolution=10)"
      ]
    },
    {
      "cell_type": "code",
      "execution_count": null,
      "metadata": {
        "colab": {
          "base_uri": "https://localhost:8080/",
          "height": 200
        },
        "id": "DZrVTdk6ics0",
        "outputId": "00cb086a-16d2-417c-d042-e757a39ee182"
      },
      "outputs": [
        {
          "data": {
            "text/html": [
              "\n",
              "        <span>ListVector with 26 elements.</span>\n",
              "        <table>\n",
              "        <tbody>\n",
              "        \n",
              "          <tr>\n",
              "            <th>\n",
              "            [no name]\n",
              "            </th>\n",
              "            <td>\n",
              "            [0.99815671]\n",
              "            </td>\n",
              "          </tr>\n",
              "        \n",
              "          <tr>\n",
              "            <th>\n",
              "            [no name]\n",
              "            </th>\n",
              "            <td>\n",
              "            [0.99831763]\n",
              "            </td>\n",
              "          </tr>\n",
              "        \n",
              "          <tr>\n",
              "            <th>\n",
              "            [no name]\n",
              "            </th>\n",
              "            <td>\n",
              "            [0.99821901]\n",
              "            </td>\n",
              "          </tr>\n",
              "        \n",
              "          <tr>\n",
              "            <th>\n",
              "            ...\n",
              "            </th>\n",
              "            <td>\n",
              "            ...\n",
              "            </td>\n",
              "          </tr>\n",
              "        \n",
              "          <tr>\n",
              "            <th>\n",
              "            [no name]\n",
              "            </th>\n",
              "            <td>\n",
              "            [0.99869484]\n",
              "            </td>\n",
              "          </tr>\n",
              "        \n",
              "          <tr>\n",
              "            <th>\n",
              "            [no name]\n",
              "            </th>\n",
              "            <td>\n",
              "            [0.98685573]\n",
              "            </td>\n",
              "          </tr>\n",
              "        \n",
              "          <tr>\n",
              "            <th>\n",
              "            [no name]\n",
              "            </th>\n",
              "            <td>\n",
              "            [0.99127395]\n",
              "            </td>\n",
              "          </tr>\n",
              "        \n",
              "        </tbody>\n",
              "        </table>\n",
              "        "
            ],
            "text/plain": [
              "<rpy2.robjects.vectors.ListVector object at 0x7978cef60d40> [RTYPES.VECSXP]\n",
              "R classes: ('list',)\n",
              "[FloatSexp..., FloatSexp..., FloatSexp..., FloatSexp..., ..., FloatSexp..., FloatSexp..., FloatSexp..., FloatSexp...]\n",
              "  <no name>: <class 'numpy.ndarray'>\n",
              "  array([0.99815671])\n",
              "  <no name>: <class 'numpy.ndarray'>\n",
              "  array([0.99831763])\n",
              "  <no name>: <class 'numpy.ndarray'>\n",
              "  array([0.99821901])\n",
              "  <no name>: <class 'numpy.ndarray'>\n",
              "  array([0.99544009])\n",
              "...\n",
              "  <no name>: <class 'numpy.ndarray'>\n",
              "  array([0.99367214])\n",
              "  <no name>: <class 'numpy.ndarray'>\n",
              "  array([0.99869484])\n",
              "  <no name>: <class 'numpy.ndarray'>\n",
              "  array([0.98685573])\n",
              "  <no name>: <class 'numpy.ndarray'>\n",
              "  array([0.99127395])"
            ]
          },
          "execution_count": 68,
          "metadata": {},
          "output_type": "execute_result"
        },
        {
          "name": "stdout",
          "output_type": "stream",
          "text": [
            "time: 2min 12s (started: 2023-08-07 15:16:51 +00:00)\n"
          ]
        }
      ],
      "source": [
        "#number of data points #data dimension  #ddalpha function\n",
        "#Slows after 35 data points\n",
        "simplicial_volume(m, data_points, 10)"
      ]
    },
    {
      "cell_type": "code",
      "execution_count": null,
      "metadata": {
        "id": "Go1j9bh4ttWp"
      },
      "outputs": [],
      "source": [
        "convex_hull_peeling(35, 10, 2) #data points #data dimension  #ddalpha function"
      ]
    },
    {
      "cell_type": "code",
      "execution_count": null,
      "metadata": {
        "id": "9Yjlsaf9tv-S"
      },
      "outputs": [],
      "source": [
        "zoinoid(35, 10, 3) #data points #data dimension  #ddalpha function"
      ]
    },
    {
      "cell_type": "code",
      "execution_count": null,
      "metadata": {
        "id": "ezE4_EW6tyB5"
      },
      "outputs": [],
      "source": [
        "spatial(35, 10, 4) #data points #data dimension  #ddalpha function"
      ]
    },
    {
      "cell_type": "code",
      "execution_count": null,
      "metadata": {
        "id": "sVJfZ9FIt0D0"
      },
      "outputs": [],
      "source": [
        "mahalanobis(35, 10, 5) #data points #data dimension  #ddalpha function"
      ]
    },
    {
      "cell_type": "code",
      "execution_count": null,
      "metadata": {
        "colab": {
          "base_uri": "https://localhost:8080/"
        },
        "id": "GZxkhTgciF6l",
        "outputId": "ed62c72e-06d1-4642-a6bc-60a104ceb765"
      },
      "outputs": [
        {
          "name": "stdout",
          "output_type": "stream",
          "text": [
            "time: 212 ms (started: 2023-08-07 16:20:13 +00:00)\n"
          ]
        }
      ],
      "source": [
        "data_points = 22\n",
        "m = robjects.r['matrix'](SilList, nrow=data_points, ncol=10)"
      ]
    },
    {
      "cell_type": "code",
      "execution_count": null,
      "metadata": {
        "colab": {
          "base_uri": "https://localhost:8080/",
          "height": 200
        },
        "id": "jS8lRUJit1Tg",
        "outputId": "d0c0583e-2f93-4018-e807-78d71541b4b4"
      },
      "outputs": [
        {
          "data": {
            "text/html": [
              "\n",
              "        <span>ListVector with 22 elements.</span>\n",
              "        <table>\n",
              "        <tbody>\n",
              "        \n",
              "          <tr>\n",
              "            <th>\n",
              "            [no name]\n",
              "            </th>\n",
              "            <td>\n",
              "            [0.]\n",
              "            </td>\n",
              "          </tr>\n",
              "        \n",
              "          <tr>\n",
              "            <th>\n",
              "            [no name]\n",
              "            </th>\n",
              "            <td>\n",
              "            [0.]\n",
              "            </td>\n",
              "          </tr>\n",
              "        \n",
              "          <tr>\n",
              "            <th>\n",
              "            [no name]\n",
              "            </th>\n",
              "            <td>\n",
              "            [0.]\n",
              "            </td>\n",
              "          </tr>\n",
              "        \n",
              "          <tr>\n",
              "            <th>\n",
              "            ...\n",
              "            </th>\n",
              "            <td>\n",
              "            ...\n",
              "            </td>\n",
              "          </tr>\n",
              "        \n",
              "          <tr>\n",
              "            <th>\n",
              "            [no name]\n",
              "            </th>\n",
              "            <td>\n",
              "            [0.]\n",
              "            </td>\n",
              "          </tr>\n",
              "        \n",
              "          <tr>\n",
              "            <th>\n",
              "            [no name]\n",
              "            </th>\n",
              "            <td>\n",
              "            [0.]\n",
              "            </td>\n",
              "          </tr>\n",
              "        \n",
              "          <tr>\n",
              "            <th>\n",
              "            [no name]\n",
              "            </th>\n",
              "            <td>\n",
              "            [0.]\n",
              "            </td>\n",
              "          </tr>\n",
              "        \n",
              "        </tbody>\n",
              "        </table>\n",
              "        "
            ],
            "text/plain": [
              "<rpy2.robjects.vectors.ListVector object at 0x7dfb961ef2c0> [RTYPES.VECSXP]\n",
              "R classes: ('list',)\n",
              "[FloatSexp..., FloatSexp..., FloatSexp..., FloatSexp..., ..., FloatSexp..., FloatSexp..., FloatSexp..., FloatSexp...]\n",
              "  <no name>: <class 'numpy.ndarray'>\n",
              "  array([0.])\n",
              "  <no name>: <class 'numpy.ndarray'>\n",
              "  array([0.])\n",
              "  <no name>: <class 'numpy.ndarray'>\n",
              "  array([0.])\n",
              "  <no name>: <class 'numpy.ndarray'>\n",
              "  array([0.])\n",
              "...\n",
              "  <no name>: <class 'numpy.ndarray'>\n",
              "  array([0.])\n",
              "  <no name>: <class 'numpy.ndarray'>\n",
              "  array([0.])\n",
              "  <no name>: <class 'numpy.ndarray'>\n",
              "  array([0.])\n",
              "  <no name>: <class 'numpy.ndarray'>\n",
              "  array([0.])"
            ]
          },
          "execution_count": 54,
          "metadata": {},
          "output_type": "execute_result"
        },
        {
          "name": "stdout",
          "output_type": "stream",
          "text": [
            "time: 17.1 ms (started: 2023-08-07 16:20:24 +00:00)\n"
          ]
        }
      ],
      "source": [
        "halfspace(m, data_points, 10) #data points #data dimension  #ddalpha function"
      ]
    },
    {
      "cell_type": "code",
      "execution_count": null,
      "metadata": {
        "id": "C9TWlCaVt2gJ"
      },
      "outputs": [],
      "source": [
        "projection(35, 10, 7) #data points #data dimension  #ddalpha function"
      ]
    },
    {
      "cell_type": "code",
      "execution_count": null,
      "metadata": {
        "id": "oym935lFt33S"
      },
      "outputs": [],
      "source": [
        "simplicial(35, 10, 8) #data points #data dimension  #ddalpha function"
      ]
    },
    {
      "cell_type": "code",
      "execution_count": null,
      "metadata": {
        "colab": {
          "base_uri": "https://localhost:8080/"
        },
        "id": "5WvVC2KuE72I",
        "outputId": "e739061c-e0d0-42b7-c573-25637a67b722"
      },
      "outputs": [
        {
          "name": "stdout",
          "output_type": "stream",
          "text": [
            "time: 1.2 ms (started: 2023-08-07 15:01:10 +00:00)\n"
          ]
        }
      ],
      "source": [
        "sv_x = [20, 22, 24, 26]\n",
        "sv_y = [4.54, 13.7, 46.3, 132]\n",
        "chp_x = []\n",
        "chp_y = []\n",
        "zoinoid_x = []\n",
        "zoinoid_y = []\n",
        "spatial_x = []\n",
        "spatial_y = []\n",
        "mahalanobis_x = []\n",
        "mahalanobis_y = []\n",
        "halfspace_x = []\n",
        "halfspace_y = []\n",
        "projection_x = []\n",
        "projection_y = []\n",
        "simplicial_x = []\n",
        "simplicial_y = []"
      ]
    },
    {
      "cell_type": "code",
      "execution_count": null,
      "metadata": {
        "colab": {
          "base_uri": "https://localhost:8080/"
        },
        "id": "kvGGsBTwam_x",
        "outputId": "56da94c5-b898-448d-cf4c-339bcbe232c7"
      },
      "outputs": [
        {
          "name": "stdout",
          "output_type": "stream",
          "text": [
            "[4.882877349853516, 14.077583312988281]\n",
            "[1.0440623760223389, 0.0021376609802246094]\n"
          ]
        }
      ],
      "source": [
        "#sv_y = np.log10(sv_y)\n",
        "#halfspace_y = np.log10(halfspace_y)\n",
        "print(sv_y)\n",
        "print(halfspace_y)"
      ]
    },
    {
      "cell_type": "code",
      "execution_count": null,
      "metadata": {
        "id": "zmoQ_Po_WXCc"
      },
      "outputs": [],
      "source": [
        "plt.plot(sv_x,sv_y)\n",
        "#plt.plot(chp_x, chp_y)\n",
        "#plt.plot(zoinoid_x, zoinoid_y) #\n",
        "#plt.plot(spatial_x, spatial_y) #\n",
        "#plt.plot(mahalanobis_x, mahalanobis_y) #\n",
        "plt.plot(halfspace_x, halfspace_y)\n",
        "#plt.plot(projection_x, projection_y) #\n",
        "#plt.plot(simplicial_x, simplicial_y)\n",
        "plt.legend(['Simplicial Volume (Oja) Depth', 'Halfspace Depth'])\n",
        "plt.xlabel(\"Number of Data Points\")\n",
        "plt.ylabel(\"Execution Time in Seconds\")\n",
        "#plt.yscale(\"log\")\n",
        "plt.show()"
      ]
    },
    {
      "cell_type": "code",
      "execution_count": null,
      "metadata": {
        "colab": {
          "base_uri": "https://localhost:8080/"
        },
        "id": "Wj1wRacxcPCn",
        "outputId": "9866e62a-7467-4110-d33f-c3ce196697a2"
      },
      "outputs": [
        {
          "name": "stdout",
          "output_type": "stream",
          "text": [
            "time: 865 µs (started: 2023-11-04 18:02:33 +00:00)\n"
          ]
        }
      ],
      "source": [
        "e_x = [50, 100, 200, 300, 400, 500, 600, 700, 800, 900, 1000]\n",
        "e_y= [0.166, 0.695, 1.59, 4.44, 6.22, 8.97, 14.00, 19.5, 25.00, 31.1, 39.1]\n",
        "sv_x = [50, 100, 200, 300, 400, 500, 600, 700, 800, 900, 1000]\n",
        "sv_y = [0.0417, 0.117, 0.0557, 0.259, 0.279, 0.528, 1.75, 1.78, 1.95, 2.64, 4.04]\n",
        "hs_x = [50, 100, 200, 300, 400, 500, 600, 700, 800, 900, 1000]\n",
        "hs_y = [0.0255, 0.241, 0.0386, 0.691, 0.0659, 0.161, 0.187, 0.183, 0.211, 0.269, 0.503]"
      ]
    },
    {
      "cell_type": "code",
      "execution_count": null,
      "metadata": {
        "colab": {
          "base_uri": "https://localhost:8080/",
          "height": 475
        },
        "id": "VVKuhp_1cOX7",
        "outputId": "69bd3eeb-79e3-4648-e272-65a391319529"
      },
      "outputs": [
        {
          "data": {
            "image/png": "[encoded data removed]",
            "text/plain": [
              "<Figure size 640x480 with 1 Axes>"
            ]
          },
          "metadata": {},
          "output_type": "display_data"
        },
        {
          "name": "stdout",
          "output_type": "stream",
          "text": [
            "time: 428 ms (started: 2023-11-04 18:02:36 +00:00)\n"
          ]
        }
      ],
      "source": [
        "plt.plot(e_x,e_y)\n",
        "plt.plot(sv_x,sv_y)\n",
        "plt.plot(hs_x,hs_y)\n",
        "plt.legend(['Extremal Depth','Simplicial Volume (Oja) Depth', 'Halfspace Depth'])\n",
        "plt.xlabel(\"Number of Data Points\")\n",
        "plt.ylabel(\"Execution Time in Seconds\")\n",
        "#plt.yscale(\"log\")\n",
        "plt.show()"
      ]
    }
  ],
  "metadata": {
    "colab": {
      "provenance": []
    },
    "kernelspec": {
      "display_name": "Python 3",
      "name": "python3"
    },
    "language_info": {
      "name": "python"
    }
  },
  "nbformat": 4,
  "nbformat_minor": 0
}
